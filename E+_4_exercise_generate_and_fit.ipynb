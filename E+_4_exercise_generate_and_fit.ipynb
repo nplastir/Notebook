{
  "cells": [
    {
      "cell_type": "code",
      "execution_count": null,
      "metadata": {
        "id": "l_Yc00UBSAvX"
      },
      "outputs": [],
      "source": [
        "def installRoot():\n",
        "  !pip install -q condacolab\n",
        "\n",
        "  import condacolab\n",
        "\n",
        "  condacolab.install()\n",
        "\n",
        "  !sed -i '/cudatoolkit/d' /usr/local/conda-meta/pinned\n",
        "  !conda config --add channels conda-forge\n",
        "  !conda config --set channel_priority strict\n",
        "  !conda install root_base\n",
        "  #!conda install pytorch torchvision -c pytorch -c conda-forge\n"
      ]
    },
    {
      "cell_type": "code",
      "execution_count": null,
      "metadata": {
        "collapsed": true,
        "id": "kcRauZVhHEYs"
      },
      "outputs": [],
      "source": [
        "try:\n",
        "  import ROOT\n",
        "except:\n",
        "  print(\"ROOT not installed. Installing ROOT. The notebook will be restarted once the installation succeeds.\")\n",
        "  installRoot()\n",
        "\n",
        "#the notebook may crash after the first run of this cell.\n",
        "#When you run the cell again you should see “Welcome to JupyROOT 6.30/04”."
      ]
    },
    {
      "cell_type": "code",
      "execution_count": null,
      "metadata": {
        "colab": {
          "base_uri": "https://localhost:8080/"
        },
        "id": "G0Jn8pvNR-Vg",
        "outputId": "01501476-669b-44dd-ee21-56c2f44dc164"
      },
      "outputs": [
        {
          "output_type": "stream",
          "name": "stdout",
          "text": [
            "Drive already mounted at /content/drive; to attempt to forcibly remount, call drive.mount(\"/content/drive\", force_remount=True).\n"
          ]
        }
      ],
      "source": [
        "from google.colab import drive\n",
        "drive.mount('/content/drive')"
      ]
    },
    {
      "cell_type": "code",
      "execution_count": null,
      "metadata": {
        "id": "BYcbaN3GUnLO"
      },
      "outputs": [],
      "source": [
        "\n",
        "import ROOT\n",
        "import os\n",
        "\n",
        "# Step 2: Specify the path in your Google Drive to save the data\n",
        "# By default, a 'Colab Notebooks' folder is created in your Drive. You can create a subfolder if needed.\n",
        "# Define the path where you want to save the data\n",
        "\n",
        "drive_path = '/content/drive/My Drive/Alexis_exercises/'\n",
        "\n",
        "# Create the folder if it doesn't exist\n",
        "os.makedirs(drive_path, exist_ok=True)\n",
        "\n",
        "# Define the directory path for saving plots in Google Drive\n",
        "plot_dir = \"/content/drive/My Drive/Colab Notebooks/Plots/\"\n",
        "\n",
        "os.makedirs(plot_dir, exist_ok=True)\n"
      ]
    },
    {
      "cell_type": "code",
      "source": [
        "from ROOT import RooRealVar, RooBreitWigner, RooNumConvPdf, RooGaussian, RooExponential, RooDataSet, RooAddPdf, RooArgList, RooRandom, RooMinimizer, RooPlot, TCanvas, kGreen, kRed, kBlue, kDashed\n",
        "from ROOT import RooArgSet, RooFitResult, RooFit\n",
        "import time\n",
        "\n",
        "name = \"10000\"\n",
        "events = int(name)\n",
        "bins = 200\n",
        "seed = int(time.time())\n",
        "\n",
        "print(\"Seed is \", seed)\n",
        "xvar = RooRealVar(\"xvar\", \"\", -10, 10)\n",
        "xvar.setBins(bins)\n",
        "\n",
        "# Breit Wigner Signal\n",
        "mean = RooRealVar(\"m\", \"mean\", 0.2, -1, 1)\n",
        "gamma = RooRealVar(\"#Gamma\", \"gamma\", 2, 0.1, 5)\n",
        "signal = RooBreitWigner(\"BW\", \"BW signal\", xvar, mean, gamma)\n",
        "\n",
        "# Gaussian Resolution Function\n",
        "zero = RooRealVar(\"zero\", \"Gaussian resolution mean\", 0.)\n",
        "sigma = RooRealVar(\"#sigma\", \"sigma\", 1.5, 0.1, 5)\n",
        "resol = RooGaussian(\"resol\", \"Gaussian resolution\", xvar, zero, sigma)\n",
        "\n",
        "# Background\n",
        "alpha = RooRealVar(\"#alpha\", \"Exponential Parameter\", -0.05, -2.0, 0.0)\n",
        "bkg = RooExponential(\"Bkg\", \"Bkg\", xvar, alpha)\n",
        "\n",
        "# Gaussian + BW convolution\n",
        "convolution = RooNumConvPdf(\"convolution\", \"BW (X) gauss\", xvar, signal, resol)\n",
        "\n",
        "# TotalPdf = Gaussian + Bkg\n",
        "sigfrac = RooRealVar(\"sig1frac\", \"fraction of component 1 in signal\", 0.5, 0., 1.)\n",
        "total = RooAddPdf(\"totalPDF\", \"totalPDF\", RooArgList(convolution, bkg), sigfrac)\n",
        "\n",
        "print(f\"\\n------Generating {name} events\\n\")\n",
        "print(\"\\n------Remember: initial values for fitting step are the generated (true) values in generation ---\")\n"
      ],
      "metadata": {
        "colab": {
          "base_uri": "https://localhost:8080/"
        },
        "id": "Kv9QH1RSdZQO",
        "outputId": "1c578b1f-084a-4089-b549-e15803b9da4b"
      },
      "execution_count": null,
      "outputs": [
        {
          "output_type": "stream",
          "name": "stdout",
          "text": [
            "Seed is  1744295813\n",
            "\n",
            "------Generating 10000 events\n",
            "\n",
            "\n",
            "------Remember: initial values for fitting step are the generated (true) values in generation ---\n"
          ]
        }
      ]
    },
    {
      "cell_type": "code",
      "source": [
        "\n",
        "RooRandom.randomGenerator().SetSeed(seed)\n",
        "data = total.generate(xvar, events)\n",
        "\n",
        "data.write(f\"{plot_dir}_{events}_events.txt\")\n",
        "\n",
        "print(f\"\\nFitting {name} events\\n\")\n"
      ],
      "metadata": {
        "colab": {
          "base_uri": "https://localhost:8080/"
        },
        "id": "hlVqQAIZNWqZ",
        "outputId": "c3b7ee9e-6b7b-4895-a723-c61aab177e85"
      },
      "execution_count": null,
      "outputs": [
        {
          "output_type": "stream",
          "name": "stdout",
          "text": [
            "\n",
            "Fitting 10000 events\n",
            "\n",
            "[#1] INFO:NumericIntegration -- RooRealIntegral::init(convolution_Int[xvar]) using numeric integrator RooIntegrator1D to calculate Int(xvar)\n",
            "[#1] INFO:NumericIntegration -- RooRealIntegral::init(convolution_Int[xvar]) using numeric integrator RooIntegrator1D to calculate Int(xvar)\n",
            "[#1] INFO:DataHandling -- RooDataSet::write(totalPDFData) writing ASCII file /content/drive/My Drive/Colab Notebooks/Plots/_10000_events.txt\n"
          ]
        }
      ]
    },
    {
      "cell_type": "code",
      "source": [],
      "metadata": {
        "id": "hfiBLVGvm0ex",
        "colab": {
          "base_uri": "https://localhost:8080/"
        },
        "outputId": "f7b6d4d8-3992-4b79-d04a-8df15cb6af9c"
      },
      "execution_count": null,
      "outputs": [
        {
          "output_type": "stream",
          "name": "stdout",
          "text": [
            "[#1] INFO:NumericIntegration -- RooRealIntegral::init(convolution_Int[xvar]) using numeric integrator RooIntegrator1D to calculate Int(xvar)\n",
            "[#1] INFO:NumericIntegration -- RooRealIntegral::init(convolution_Int[xvar]) using numeric integrator RooIntegrator1D to calculate Int(xvar)\n",
            "[#1] INFO:DataHandling -- RooDataSet::write(totalPDFData) writing ASCII file /content/drive/My Drive/Colab Notebooks/Plots/_10000_events.txt\n"
          ]
        }
      ]
    },
    {
      "cell_type": "code",
      "source": [
        "\n",
        "start_time = time.time()\n",
        "start_cpu = time.process_time()\n",
        "\n",
        "nll = total.createNLL(data)\n",
        "minimizer = RooMinimizer(nll)\n",
        "minimizer.setMinimizerType('Minuit2')\n",
        "minimizer.migrad()\n",
        "\n",
        "end_time = time.time()\n",
        "end_cpu = time.process_time()\n",
        "\n",
        "print(\"\\n--------------------minimization done; now recalculating the uncertainties----------\")\n",
        "\n",
        "minimizer.hesse()\n",
        "print(\"\\n--------------------fit done; check best estimates for the model parameters---------\")\n"
      ],
      "metadata": {
        "colab": {
          "base_uri": "https://localhost:8080/"
        },
        "id": "0EypiSYwNZer",
        "outputId": "00465e43-6d43-4133-ab69-6fd4c6882314"
      },
      "execution_count": null,
      "outputs": [
        {
          "output_type": "stream",
          "name": "stdout",
          "text": [
            "\n",
            "--------------------minimization done; now recalculating the uncertainties----------\n",
            "\n",
            "--------------------fit done; check best estimates for the model parameters---------\n",
            "[#1] INFO:Fitting -- RooAbsPdf::fitTo(totalPDF) fixing normalization set for coefficient determination to observables in data\n",
            "[#1] INFO:Fitting -- using CPU computation library compiled with -mavx2\n",
            "[#1] INFO:Fitting -- RooAddition::defaultErrorLevel(nll_totalPDF_totalPDFData) Summation contains a RooNLLVar, using its error level\n",
            "Minuit2Minimizer: Minimize with max-calls 2500 convergence for edm < 1 strategy 1\n",
            "[#1] INFO:NumericIntegration -- RooRealIntegral::init(convolution_Int[xvar]) using numeric integrator RooIntegrator1D to calculate Int(xvar)\n",
            "Minuit2Minimizer : Valid minimum - status = 0\n",
            "FVAL  = 28418.7371097177529\n",
            "Edm   = 0.000347202659914105742\n",
            "Nfcn  = 145\n",
            "#Gamma\t  = 2.15903\t +/-  0.302485\t(limited)\n",
            "#alpha\t  = -0.0506747\t +/-  0.00359068\t(limited)\n",
            "#sigma\t  = 1.48465\t +/-  0.104401\t(limited)\n",
            "m\t  = 0.278459\t +/-  0.0492552\t(limited)\n",
            "sig1frac\t  = 0.51389\t +/-  0.0173468\t(limited)\n"
          ]
        },
        {
          "output_type": "stream",
          "name": "stderr",
          "text": [
            "Info in <Minuit2>: MnSeedGenerator Computing seed using NumericalGradient calculator\n",
            "Info in <Minuit2>: MnSeedGenerator Initial state: FCN =       28420.64975 Edm =       2.207806685 NCalls =     21\n",
            "Info in <Minuit2>: MnSeedGenerator Initial state  \n",
            "  Minimum value : 28420.64975\n",
            "  Edm           : 2.207806685\n",
            "  Internal parameters:\t[    -0.2264194372      1.253235898    -0.4429110441     0.2013579208                0]\t\n",
            "  Internal gradient  :\t[     -1.401658934     -88.61442424     -12.88065305     -37.77138259     -36.08932189]\t\n",
            "  Internal covariance matrix:\n",
            "[[   0.0044991177              0              0              0              0]\n",
            " [              0  0.00015700341              0              0              0]\n",
            " [              0              0   0.0011287748              0              0]\n",
            " [              0              0              0   0.0045763135              0]\n",
            " [              0              0              0              0  0.00067052394]]]\n",
            "Info in <Minuit2>: VariableMetricBuilder Start iterating until Edm is < 0.001 with call limit = 2500\n",
            "Info in <Minuit2>: VariableMetricBuilder    0 - FCN =       28420.64975 Edm =       2.207806685 NCalls =     21\n",
            "Info in <Minuit2>: VariableMetricBuilder    1 - FCN =       28418.92679 Edm =     0.09806719743 NCalls =     33\n",
            "Info in <Minuit2>: VariableMetricBuilder    2 - FCN =       28418.78979 Edm =     0.04297020603 NCalls =     45\n",
            "Info in <Minuit2>: VariableMetricBuilder    3 - FCN =       28418.76552 Edm =     0.00551648277 NCalls =     57\n",
            "Info in <Minuit2>: VariableMetricBuilder    4 - FCN =       28418.75577 Edm =   0.0002696141894 NCalls =     69\n",
            "Info in <Minuit2>: VariableMetricBuilder After Hessian\n",
            "Info in <Minuit2>: VariableMetricBuilder    5 - FCN =       28418.75577 Edm =     0.01282315069 NCalls =    100\n",
            "Info in <Minuit2>: VariableMetricBuilder Tolerance not sufficient, continue minimization; Edm 0.0128232 Required 0.001\n",
            "Info in <Minuit2>: VariableMetricBuilder    6 - FCN =       28418.73711 Edm =   0.0005536720367 NCalls =    112\n",
            "Info in <Minuit2>: VariableMetricBuilder After Hessian\n",
            "Info in <Minuit2>: VariableMetricBuilder    7 - FCN =       28418.73711 Edm =   0.0003472026599 NCalls =    145\n",
            "Info in <Minuit2>: Minuit2Minimizer::Hesse Using max-calls 2500\n",
            "Info in <Minuit2>: Minuit2Minimizer::Hesse Hesse is valid - matrix is accurate\n"
          ]
        }
      ]
    },
    {
      "cell_type": "code",
      "source": [
        "result = minimizer.save()\n",
        "\n",
        "print(\"Fit results:\")\n",
        "for param in result.floatParsFinal():\n",
        "    print(f\"{param.GetName()} = {param.getVal():.3f} +/- {param.getError():.3f}\")\n",
        "\n"
      ],
      "metadata": {
        "colab": {
          "base_uri": "https://localhost:8080/"
        },
        "id": "PdeIqnDFNclx",
        "outputId": "754162c6-d2bc-4a0f-9834-394858dfed55"
      },
      "execution_count": null,
      "outputs": [
        {
          "output_type": "stream",
          "name": "stdout",
          "text": [
            "Fit results:\n",
            "#Gamma = 2.159 +/- 0.492\n",
            "#alpha = -0.051 +/- 0.004\n",
            "#sigma = 1.485 +/- 0.164\n",
            "m = 0.278 +/- 0.049\n",
            "sig1frac = 0.514 +/- 0.023\n"
          ]
        }
      ]
    },
    {
      "cell_type": "code",
      "source": [
        "\n",
        "myC = TCanvas(\"RooCanvas\", \"Roofit Canvas\", 1000, 750)\n",
        "\n",
        "frame = xvar.frame()\n",
        "frame.SetTitle(f\"RooFit : {events} events\")\n",
        "frame.SetYTitle(\"# of events\")\n",
        "\n",
        "data.plotOn(frame)\n",
        "total.plotOn(frame, RooFit.LineColor(ROOT.kGreen))\n",
        "total.plotOn(frame, RooFit.Components(RooArgSet(convolution)), RooFit.LineColor(ROOT.kRed))\n",
        "total.plotOn(frame, RooFit.Components(RooArgSet(bkg)), RooFit.LineColor(ROOT.kBlue), RooFit.LineStyle(kDashed))\n",
        "total.paramOn(frame, RooFit.Layout(0.75, 0.99, 0.99))\n",
        "frame.getAttText().SetTextSize(0.028)\n",
        "\n",
        "frame.Draw()\n",
        "myC.SaveAs(f\"plots/RooConvGen_{name}.png\")\n",
        "\n",
        "#print(\"\\n------------------------------\")\n",
        "#print(f\"Total CPU time: {end_time - start_time:.3f} seconds\")\n",
        "#print(\"------------------------------\\n\")\n",
        "\n",
        "print(\"\\n------------------------------\")\n",
        "print(f\"Total time: {end_time - start_time:.3f} seconds\")\n",
        "\n",
        "# WRONG ->   print(f\"Total CPU time: {(end_cpu - start_cpu) / os.sysconf(os.sysconf_names['SC_CLK_TCK']):.3f} seconds\")\n",
        "print(f\"Total CPU time: {(end_cpu - start_cpu) :.3f} seconds\")\n",
        "print(\"------------------------------\\n\")\n",
        "\n",
        "#### If Total Time and CPU Time are close it means we are exclusive user of the Google CPU !"
      ],
      "metadata": {
        "colab": {
          "base_uri": "https://localhost:8080/"
        },
        "id": "pwV706mBNfxD",
        "outputId": "195aa55d-a4c3-421c-96c7-8cd0f89dd6dc"
      },
      "execution_count": null,
      "outputs": [
        {
          "output_type": "stream",
          "name": "stdout",
          "text": [
            "\n",
            "------------------------------\n",
            "Total time: 101.735 seconds\n",
            "Total CPU time: 1.005 seconds\n",
            "Total CPU time: 100.534 seconds\n",
            "------------------------------\n",
            "\n",
            "[#1] INFO:NumericIntegration -- RooRealIntegral::init(convolution_Int[xvar]) using numeric integrator RooIntegrator1D to calculate Int(xvar)\n",
            "[#1] INFO:Plotting -- RooAbsPdf::plotOn(totalPDF) directly selected PDF components: (convolution)\n",
            "[#1] INFO:Plotting -- RooAbsPdf::plotOn(totalPDF) indirectly selected PDF components: (BW,resol)\n",
            "[#1] INFO:NumericIntegration -- RooRealIntegral::init(convolution_Int[xvar]) using numeric integrator RooIntegrator1D to calculate Int(xvar)\n",
            "[#1] INFO:Plotting -- RooAbsPdf::plotOn(totalPDF) directly selected PDF components: (Bkg)\n",
            "[#1] INFO:Plotting -- RooAbsPdf::plotOn(totalPDF) indirectly selected PDF components: ()\n",
            "[#1] INFO:NumericIntegration -- RooRealIntegral::init(convolution_Int[xvar]) using numeric integrator RooIntegrator1D to calculate Int(xvar)\n"
          ]
        },
        {
          "output_type": "stream",
          "name": "stderr",
          "text": [
            "python ERROR: cannot open image file \"plots/RooConvGen_10000.png\" for writing. Please check permissions.\n",
            "Error in <TASImage::WriteImage>: error writing file plots/RooConvGen_10000.png\n"
          ]
        }
      ]
    },
    {
      "cell_type": "code",
      "source": [],
      "metadata": {
        "id": "xaUMlKdgOFhm",
        "colab": {
          "base_uri": "https://localhost:8080/"
        },
        "outputId": "2703c687-a184-416d-a4e4-5c23c1d3a6bc"
      },
      "execution_count": null,
      "outputs": [
        {
          "output_type": "stream",
          "name": "stdout",
          "text": [
            "[#1] INFO:NumericIntegration -- RooRealIntegral::init(convolution_Int[xvar]) using numeric integrator RooIntegrator1D to calculate Int(xvar)\n",
            "[#1] INFO:Plotting -- RooAbsPdf::plotOn(totalPDF) directly selected PDF components: (convolution)\n",
            "[#1] INFO:Plotting -- RooAbsPdf::plotOn(totalPDF) indirectly selected PDF components: (BW,resol)\n",
            "[#1] INFO:NumericIntegration -- RooRealIntegral::init(convolution_Int[xvar]) using numeric integrator RooIntegrator1D to calculate Int(xvar)\n",
            "[#1] INFO:Plotting -- RooAbsPdf::plotOn(totalPDF) directly selected PDF components: (Bkg)\n",
            "[#1] INFO:Plotting -- RooAbsPdf::plotOn(totalPDF) indirectly selected PDF components: ()\n",
            "[#1] INFO:NumericIntegration -- RooRealIntegral::init(convolution_Int[xvar]) using numeric integrator RooIntegrator1D to calculate Int(xvar)\n"
          ]
        },
        {
          "output_type": "stream",
          "name": "stderr",
          "text": [
            "python ERROR: cannot open image file \"plots/RooConvGen_10000.png\" for writing. Please check permissions.\n",
            "Error in <TASImage::WriteImage>: error writing file plots/RooConvGen_10000.png\n"
          ]
        }
      ]
    }
  ],
  "metadata": {
    "colab": {
      "provenance": []
    },
    "kernelspec": {
      "display_name": "Python 3",
      "name": "python3"
    },
    "language_info": {
      "name": "python"
    }
  },
  "nbformat": 4,
  "nbformat_minor": 0
}